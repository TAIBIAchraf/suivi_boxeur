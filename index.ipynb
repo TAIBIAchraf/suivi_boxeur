{
 "cells": [
  {
   "cell_type": "markdown",
   "metadata": {},
   "source": [
    "- Chargement du fichier qui contient la description de la pose \"keypoints\"\n",
    "- Créer un tenseur topology pour définir comment les keypoints sont liés entre eux."
   ]
  },
  {
   "cell_type": "code",
   "execution_count": null,
   "metadata": {},
   "outputs": [],
   "source": [
    "import json\n",
    "import trt_pose.coco\n",
    "import math\n",
    "\n",
    "with open('human_pose.json', 'r') as f:\n",
    "    human_pose = json.load(f)\n",
    "\n",
    "topology = trt_pose.coco.coco_category_to_topology(human_pose)"
   ]
  },
  {
   "cell_type": "markdown",
   "metadata": {},
   "source": [
    "- Définir la résolution de l'entrée 224x224\n",
    "- Initialisé l'entrée avec un example qui contient que des zeros"
   ]
  },
  {
   "cell_type": "code",
   "execution_count": null,
   "metadata": {},
   "outputs": [],
   "source": [
    "import torch\n",
    "WIDTH = 224\n",
    "HEIGHT = 224\n",
    "data = torch.zeros((1, 3, HEIGHT, WIDTH)).cuda()"
   ]
  },
  {
   "cell_type": "markdown",
   "metadata": {},
   "source": [
    "- charger les poids du réseau optimisé\n",
    "Remarque: ce réseau a été optimisé en utilisant torch2trt"
   ]
  },
  {
   "cell_type": "code",
   "execution_count": null,
   "metadata": {},
   "outputs": [],
   "source": [
    "from torch2trt import TRTModule\n",
    "OPTIMIZED_MODEL = 'mon_model.pth'\n",
    "model_trt = TRTModule()\n",
    "model_trt.load_state_dict(torch.load(OPTIMIZED_MODEL))"
   ]
  },
  {
   "cell_type": "markdown",
   "metadata": {},
   "source": [
    " - Importer les bibliothéques pour le traitement d'images (cv2), ainsi pour le prétraitement (torchvision.transforms,PIL.image)\n",
    " - Définir les tenseurs de la moyenne, écart-type pour la normalisation de l'image et créer une allocation pour ces tenseur dans le GPU (torch.device('cuda'))\n",
    " la fonction preprocess:\n",
    "     - Convertit l'image en RGB\n",
    "     - Convertir l'image en PIL image dans le but de le transformer après en tenseur (voir ligne d'après)\n",
    "     - Normaliser l'image"
   ]
  },
  {
   "cell_type": "code",
   "execution_count": null,
   "metadata": {},
   "outputs": [],
   "source": [
    "import cv2\n",
    "import torchvision.transforms as transforms\n",
    "import PIL.Image\n",
    "\n",
    "mean = torch.Tensor([0.485, 0.456, 0.406]).cuda()\n",
    "std = torch.Tensor([0.229, 0.224, 0.225]).cuda()\n",
    "device = torch.device('cuda')\n",
    "\n",
    "def preprocess(image):\n",
    "    global device\n",
    "    device = torch.device('cuda')\n",
    "    image = cv2.cvtColor(image, cv2.COLOR_BGR2RGB)\n",
    "    image = PIL.Image.fromarray(image)\n",
    "    image = transforms.functional.to_tensor(image).to(device)\n",
    "    image.sub_(mean[:, None, None]).div_(std[:, None, None])\n",
    "    return image[None, ...]"
   ]
  },
  {
   "cell_type": "markdown",
   "metadata": {},
   "source": [
    "- \"parse_objects\" classe pour renvoyer les keypoints trouvés à partir du réseau de neurones\n",
    "- \"draw_objects\" classe pour dessiner ces points"
   ]
  },
  {
   "cell_type": "code",
   "execution_count": null,
   "metadata": {},
   "outputs": [],
   "source": [
    "from trt_pose.draw_objects import DrawObjects\n",
    "from trt_pose.parse_objects import ParseObjects\n",
    "\n",
    "parse_objects = ParseObjects(topology)\n",
    "draw_objects = DrawObjects(topology)"
   ]
  },
  {
   "cell_type": "markdown",
   "metadata": {},
   "source": [
    "- utiliser la biblithéque jetcam (sur nvidia seulement) pour récupérer une image BGR "
   ]
  },
  {
   "cell_type": "code",
   "execution_count": null,
   "metadata": {},
   "outputs": [],
   "source": [
    "from jetcam.csi_camera import CSICamera\n",
    "from jetcam.utils import bgr8_to_jpeg\n",
    "\n",
    "camera = CSICamera(width=WIDTH, height=HEIGHT,capture_fps=2)\n",
    "\n",
    "camera.running = True"
   ]
  },
  {
   "cell_type": "markdown",
   "metadata": {},
   "source": [
    "- Initialiser 4 tenseurs pytorch pour enregistrer les coordonnées des keypoints récupérés"
   ]
  },
  {
   "cell_type": "code",
   "execution_count": null,
   "metadata": {},
   "outputs": [],
   "source": [
    "# intialisation des tenseurs pytorch pour le stockage \n",
    "x,y,x1,y1 = torch.zeros([1,18]),torch.zeros([1,18]),torch.zeros([1,18]),torch.zeros([1,18])\n",
    "\n",
    "#initialisation du tenseur pour le comptage\n",
    "cpt = torch.zeros([1,4])\n",
    "    \n",
    "def stocker(tenseur_x,tenseur_y):\n",
    "    global x1,y1\n",
    "    x1 = torch.cat((x1,tenseur_x),0)\n",
    "    y1 = torch.cat((y1,tenseur_y),0)\n",
    "    return x1,y1\n",
    "\n"
   ]
  },
  {
   "cell_type": "code",
   "execution_count": null,
   "metadata": {},
   "outputs": [],
   "source": [
    "# Importer les classes\n",
    "from Mouvements import Mouvements\n",
    "from Manipulation import Manipulation\n",
    "\n",
    "# Création des objets instances\n",
    "mvt = Mouvements()\n",
    "manip = Manipulation()\n"
   ]
  },
  {
   "cell_type": "code",
   "execution_count": null,
   "metadata": {},
   "outputs": [],
   "source": []
  },
  {
   "cell_type": "markdown",
   "metadata": {},
   "source": [
    "Fonction pour récupérer les keypoints "
   ]
  },
  {
   "cell_type": "code",
   "execution_count": null,
   "metadata": {},
   "outputs": [],
   "source": [
    "def get_keypoints(image, human_pose, topology, object_counts, objects, normalized_peaks):\n",
    "    global x,y\n",
    "\n",
    "    height = image.shape[0]\n",
    "    width = image.shape[1]\n",
    "    count = int(object_counts[0])# il y a combien de personnes détéctés\n",
    "    \n",
    "    \n",
    "    for i in range(count):# parcourir les personnes détéctées\n",
    "        obj = objects[0][i] # obj determine les points clés détéctés\n",
    "        # obj est -1 si le keypoint n'existe pas et 0 s'il existe\n",
    "        C = obj.shape[0] # le nombre des keypoints (toujours C= 18)\n",
    "        for j in range(C): #parcourir les 18 points clés j est le nombre de l'indice du keypoint\n",
    "                k = int(obj[j]) \n",
    "                if k >= 0: #si le keypoint existe\n",
    "                    peak = normalized_peaks[0][j][k] #on associe le keypoint qui existe à l'indice du keypoint J\n",
    "                    x[0][j] = round(float(peak[1]) * width)\n",
    "                    y[0][j] = round(float(peak[0]) * height)\n",
    "                else:\n",
    "                    #quand on a pas une detection on rempli par la derniere valeur qu'on a obtenu\n",
    "                    x[0][j] = x1[-1][j]\n",
    "                    y[0][j] = y1[-1][j]\n",
    "                    \n",
    "    # Stocker les Coordonnées                \n",
    "    stocker(x,y) \n",
    "    # Renvoyer l'angle du bras gauche\n",
    "    angle_gauche = manip.getAngle(x1,y1,9,7,5)\n",
    "    # Détécter l'uppercut gauche\n",
    "    uppercut_gauche = mvt.uppercut(y1,angle_gauche,'gauche',cpt)\n",
    "    # Renvoyer l'angle du bras droit\n",
    "    angle_droite = manip.getAngle(x1,y1,10,8,6)\n",
    "    # Détécter l'uppercut droite\n",
    "    uppercut_droite = mvt.uppercut(y1,angle_droite,'droite',cpt)\n",
    "    #Detecter le JAB\n",
    "    JAB = mvt.JAB(angle_gauche,y1,'gauche',cpt)\n",
    "    #Detecter le contre\n",
    "    Cross = mvt.JAB(angle_droite,y1,'droite',cpt)\n",
    "    #rajouter les coups dans le tenseur combinaison (comb)\n",
    "    manip.combinaisons(JAB,Cross,uppercut_gauche,uppercut_droite)\n",
    "    \n",
    "    \n"
   ]
  },
  {
   "cell_type": "markdown",
   "metadata": {},
   "source": [
    "Fonction d'éxécution pour charger le nouvelle l'image,effectuer un pretraitement,detecter les keypoints, convertir l'image en JPEG et enfin appeler la fonction get_keypoints"
   ]
  },
  {
   "cell_type": "code",
   "execution_count": null,
   "metadata": {},
   "outputs": [],
   "source": [
    "def execute(change):\n",
    "    image = change['new']\n",
    "    data = preprocess(image)\n",
    "    cmap, paf = model_trt(data)\n",
    "    cmap, paf = cmap.detach().cpu(), paf.detach().cpu()\n",
    "    counts, objects, peaks = parse_objects(cmap, paf)\n",
    "    draw_objects(image, counts, objects, peaks)\n",
    "    image_w.value = bgr8_to_jpeg(image[:, ::-1, :])\n",
    "    keypoints = get_keypoints(image, human_pose, topology, counts, objects,peaks)"
   ]
  },
  {
   "cell_type": "code",
   "execution_count": null,
   "metadata": {},
   "outputs": [],
   "source": []
  },
  {
   "cell_type": "markdown",
   "metadata": {},
   "source": [
    "- une interface pour la visualisation en temps réel"
   ]
  },
  {
   "cell_type": "code",
   "execution_count": null,
   "metadata": {
    "scrolled": true
   },
   "outputs": [],
   "source": [
    "import ipywidgets\n",
    "from IPython.display import display\n",
    "image_w = ipywidgets.Image(format='jpeg',width = 500,height = 300)\n",
    "display(image_w)"
   ]
  },
  {
   "cell_type": "markdown",
   "metadata": {},
   "source": [
    "Lancer la caméra"
   ]
  },
  {
   "cell_type": "code",
   "execution_count": null,
   "metadata": {},
   "outputs": [],
   "source": [
    "camera.observe(execute, names='value')"
   ]
  },
  {
   "cell_type": "markdown",
   "metadata": {},
   "source": [
    "Arréter la caméra"
   ]
  },
  {
   "cell_type": "code",
   "execution_count": null,
   "metadata": {},
   "outputs": [],
   "source": [
    "camera.unobserve_all()\n",
    "camera.running = False\n",
    "camera.cap.release()\n",
    "\n",
    "#bilan des mouvements\n",
    "manip.statistiques(cpt)\n",
    "manip.send(cpt)"
   ]
  },
  {
   "cell_type": "code",
   "execution_count": null,
   "metadata": {},
   "outputs": [],
   "source": [
    "print(\"\"\"Le nombre total des mouvements effectués est {} ({} JAB , {} CROSS , {} Uppercuts gauches ,{} Uppercuts Droites) \\nPourcentages :\\n JAB : {:.1f}%\\n CROSS : {:.1f}%\\n Uppercuts Gauches : {:.1f}% \\n Uppercuts Droites : {:.1f}%\\n Les Enchainements détéctés :\\n JAB JAB CROSS : {}\\n JAB CROSS Uppercut_gauche : {}\\n JAB CROSS JAB :{}\\nJAB CROSS Uppercut_droite {}\"\"\".format(int(Manipulation.mvt_pourcentage[0]),int(cpt[0,2]),int(cpt[0,3]),int(cpt[0,0]),int(cpt[0,1]),Manipulation.mvt_pourcentage[1],Manipulation.mvt_pourcentage[2],Manipulation.mvt_pourcentage[3],Manipulation.mvt_pourcentage[4],int(Manipulation.comb[0,0]),int(Manipulation.comb[0,1]),int(Manipulation.comb[0,2]),int(Manipulation.comb[0,3])))"
   ]
  },
  {
   "cell_type": "code",
   "execution_count": null,
   "metadata": {},
   "outputs": [],
   "source": []
  },
  {
   "cell_type": "code",
   "execution_count": null,
   "metadata": {},
   "outputs": [],
   "source": []
  }
 ],
 "metadata": {
  "kernelspec": {
   "display_name": "Python 3",
   "language": "python",
   "name": "python3"
  },
  "language_info": {
   "codemirror_mode": {
    "name": "ipython",
    "version": 3
   },
   "file_extension": ".py",
   "mimetype": "text/x-python",
   "name": "python",
   "nbconvert_exporter": "python",
   "pygments_lexer": "ipython3",
   "version": "3.6.9"
  }
 },
 "nbformat": 4,
 "nbformat_minor": 4
}
