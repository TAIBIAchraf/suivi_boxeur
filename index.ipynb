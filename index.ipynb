{
  "cells": [
    {
      "cell_type": "markdown",
      "metadata": {
        "id": "Y-5aQhgMXgBI"
      },
      "source": [
        "- Chargement de `human_pose.json` qui contient la description des points clès.\n",
        "- Créer un tenseur `topology` pour définir comment les points clès sont reliés entre eux."
      ]
    },
    {
      "cell_type": "code",
      "execution_count": null,
      "metadata": {
        "id": "qHQVL3LVXgBK"
      },
      "outputs": [],
      "source": [
        "import json\n",
        "import trt_pose.coco\n",
        "import math\n",
        "\n",
        "with open('human_pose.json', 'r') as f:\n",
        "    human_pose = json.load(f)\n",
        "\n",
        "topology = trt_pose.coco.coco_category_to_topology(human_pose)"
      ]
    },
    {
      "cell_type": "markdown",
      "metadata": {
        "id": "e_qEibN4XgBM"
      },
      "source": [
        "Le modèle est entrainé sur une résolution 224x224, alors on initialise une  entrée (tenseur nul) de la même résolution."
      ]
    },
    {
      "cell_type": "code",
      "execution_count": null,
      "metadata": {
        "id": "lOkV-KNQXgBM"
      },
      "outputs": [],
      "source": [
        "import torch\n",
        "WIDTH = 224\n",
        "HEIGHT = 224\n",
        "data = torch.zeros((1, 3, HEIGHT, WIDTH)).cuda()"
      ]
    },
    {
      "cell_type": "markdown",
      "metadata": {
        "id": "IUw9HUfAXgBN"
      },
      "source": [
        "Charger les poids optimisés du modèle\n",
        ">Rq: ce réseau a été optimisé par `torch2trt`"
      ]
    },
    {
      "cell_type": "code",
      "execution_count": null,
      "metadata": {
        "id": "ovqjGLHiXgBN"
      },
      "outputs": [],
      "source": [
        "from torch2trt import TRTModule\n",
        "#Importer les pids\n",
        "OPTIMIZED_MODEL = 'mon_model.pth' \n",
        "model_trt = TRTModule()\n",
        "#Charger le modèle\n",
        "model_trt.load_state_dict(torch.load(OPTIMIZED_MODEL))"
      ]
    },
    {
      "cell_type": "markdown",
      "metadata": {
        "id": "eBqtV2lgXgBN"
      },
      "source": [
        "\n",
        "La fonction `preprocess(image)`:\n",
        "\n",
        "- Convertit l'image en RGB\n",
        "- Convertir l'image en PIL image dans le but de le transformer après en tenseur \n",
        "- Normalise l'image"
      ]
    },
    {
      "cell_type": "code",
      "execution_count": null,
      "metadata": {
        "id": "U6Zr3egwXgBO"
      },
      "outputs": [],
      "source": [
        "import cv2\n",
        "import torchvision.transforms as transforms\n",
        "import PIL.Image\n",
        "\n",
        "#Définir le tenseur de la moyenne\n",
        "mean = torch.Tensor([0.485, 0.456, 0.406]).cuda()\n",
        "#Définir le tenseur de l'écart-type\n",
        "std = torch.Tensor([0.229, 0.224, 0.225]).cuda()\n",
        "#créer une allocation pour ces tenseur dans le GPU\n",
        "device = torch.device('cuda')\n",
        "\n",
        "def preprocess(image):\n",
        "    global device\n",
        "    device = torch.device('cuda')\n",
        "    image = cv2.cvtColor(image, cv2.COLOR_BGR2RGB)\n",
        "    image = PIL.Image.fromarray(image)\n",
        "    image = transforms.functional.to_tensor(image).to(device)\n",
        "    image.sub_(mean[:, None, None]).div_(std[:, None, None])\n",
        "    return image[None, ...]"
      ]
    },
    {
      "cell_type": "markdown",
      "metadata": {
        "id": "lonpHMkFXgBO"
      },
      "source": [
        "- `ParseObjects` classe pour renvoyer les keypoints trouvés à partir du tenseur `topology`\n",
        "- `DrawObjects` classe pour dessiner ces points"
      ]
    },
    {
      "cell_type": "code",
      "execution_count": null,
      "metadata": {
        "id": "1FpsLpaLXgBO"
      },
      "outputs": [],
      "source": [
        "from trt_pose.draw_objects import DrawObjects\n",
        "from trt_pose.parse_objects import ParseObjects\n",
        "\n",
        "# Création des objets des deux classes\n",
        "parse_objects = ParseObjects(topology)\n",
        "draw_objects = DrawObjects(topology)"
      ]
    },
    {
      "cell_type": "markdown",
      "metadata": {
        "id": "f5pCt4BsXgBO"
      },
      "source": [
        "Utiliser la biblithéque `jetcam` (sur nvidia seulement) pour récupérer une image BGR\n"
      ]
    },
    {
      "cell_type": "code",
      "execution_count": null,
      "metadata": {
        "id": "qCugzVhVXgBP"
      },
      "outputs": [],
      "source": [
        "from jetcam.csi_camera import CSICamera\n",
        "from jetcam.utils import bgr8_to_jpeg\n",
        "\n",
        "camera = CSICamera(width=WIDTH, height=HEIGHT,capture_fps=2)\n",
        "# créer un thread pour effectuer l'acquisition et la mise à jour des images automatiquement\n",
        "camera.running = True"
      ]
    },
    {
      "cell_type": "code",
      "execution_count": null,
      "metadata": {
        "id": "1uHqIDgHXgBP"
      },
      "outputs": [],
      "source": [
        "# Intialisation des tenseurs pytorch pour le stockage des coordonnées (x,y) de chaque point clé\n",
        "x,y,x1,y1 = torch.zeros([1,18]),torch.zeros([1,18]),torch.zeros([1,18]),torch.zeros([1,18])\n",
        "\n",
        "#initialisation du tenseur pour le comptage des coups\n",
        "cpt = torch.zeros([1,4])\n",
        "    \n",
        "# Fonction qui prend en argument deux tenseurs qui seront concaténés (enregistrés) dans x1 et y1     \n",
        "def stocker(tenseur_x,tenseur_y):\n",
        "    x1 = torch.cat((x1,tenseur_x),0)\n",
        "    y1 = torch.cat((y1,tenseur_y),0)\n",
        "    return x1,y1\n",
        "\n"
      ]
    },
    {
      "cell_type": "code",
      "execution_count": null,
      "metadata": {
        "id": "nl9eyZTCXgBP"
      },
      "outputs": [],
      "source": [
        "\n",
        "from Mouvements import Mouvements\n",
        "from Manipulation import Manipulation\n",
        "\n",
        "# Création des objets instances\n",
        "mvt = Mouvements()\n",
        "manip = Manipulation()\n"
      ]
    },
    {
      "cell_type": "code",
      "execution_count": null,
      "metadata": {
        "id": "rEd8qIUaXgBQ"
      },
      "outputs": [],
      "source": []
    },
    {
      "cell_type": "markdown",
      "metadata": {
        "id": "rqi8utLGXgBQ"
      },
      "source": [
        "Fonction pour récupérer les keypoints "
      ]
    },
    {
      "cell_type": "code",
      "execution_count": null,
      "metadata": {
        "id": "ZP3cQw7_XgBQ"
      },
      "outputs": [],
      "source": [
        "def get_keypoints(image, human_pose, topology, object_counts, objects, normalized_peaks):\n",
        "    global x,y\n",
        "\n",
        "    height = image.shape[0]\n",
        "    width = image.shape[1]\n",
        "    count = int(object_counts[0])# il y a combien de personnes détéctés\n",
        "    \n",
        "    \n",
        "    for i in range(count):# parcourir les personnes détéctées\n",
        "        obj = objects[0][i] # obj determine les points clés détéctés\n",
        "        # obj est -1 si le keypoint n'existe pas et 0 s'il existe\n",
        "        C = obj.shape[0] # le nombre des keypoints (toujours C= 18)\n",
        "        for j in range(C): #parcourir les 18 points clés j est le nombre de l'indice du keypoint\n",
        "                k = int(obj[j]) \n",
        "                if k >= 0: #si le keypoint existe\n",
        "                    peak = normalized_peaks[0][j][k] #on associe le keypoint qui existe à l'indice du keypoint J\n",
        "                    x[0][j] = round(float(peak[1]) * width)\n",
        "                    y[0][j] = round(float(peak[0]) * height)\n",
        "                else:\n",
        "                    #quand on a pas une detection on rempli par la derniere valeur qu'on a obtenu\n",
        "                    x[0][j] = x1[-1][j]\n",
        "                    y[0][j] = y1[-1][j]\n",
        "                    \n",
        "    # Stocker les Coordonnées                \n",
        "    stocker(x,y) \n",
        "    # Renvoyer l'angle du bras gauche\n",
        "    angle_gauche = manip.getAngle(x1,y1,9,7,5)\n",
        "    # Détécter l'uppercut gauche\n",
        "    uppercut_gauche = mvt.uppercut(y1,angle_gauche,'gauche',cpt)\n",
        "    # Renvoyer l'angle du bras droit\n",
        "    angle_droite = manip.getAngle(x1,y1,10,8,6)\n",
        "    # Détécter l'uppercut droite\n",
        "    uppercut_droite = mvt.uppercut(y1,angle_droite,'droite',cpt)\n",
        "    #Detecter le JAB\n",
        "    JAB = mvt.JAB(angle_gauche,y1,'gauche',cpt)\n",
        "    #Detecter le contre\n",
        "    Cross = mvt.JAB(angle_droite,y1,'droite',cpt)\n",
        "    #rajouter les coups dans le tenseur combinaison (comb)\n",
        "    manip.combinaisons(JAB,Cross,uppercut_gauche,uppercut_droite)\n",
        "    \n",
        "    \n"
      ]
    },
    {
      "cell_type": "markdown",
      "metadata": {
        "id": "hVq6ZiF6XgBQ"
      },
      "source": [
        "Fonction d'éxécution pour charger le nouvelle l'image,effectuer un pretraitement,detecter les keypoints, convertir l'image en JPEG et enfin appeler la fonction get_keypoints"
      ]
    },
    {
      "cell_type": "code",
      "execution_count": null,
      "metadata": {
        "id": "kF4i5d2fXgBQ"
      },
      "outputs": [],
      "source": [
        "def execute(change):\n",
        "    image = change['new']\n",
        "    data = preprocess(image)\n",
        "    cmap, paf = model_trt(data)\n",
        "    cmap, paf = cmap.detach().cpu(), paf.detach().cpu()\n",
        "    counts, objects, peaks = parse_objects(cmap, paf)\n",
        "    draw_objects(image, counts, objects, peaks)\n",
        "    image_w.value = bgr8_to_jpeg(image[:, ::-1, :])\n",
        "    keypoints = get_keypoints(image, human_pose, topology, counts, objects,peaks)"
      ]
    },
    {
      "cell_type": "code",
      "execution_count": null,
      "metadata": {
        "id": "JPiUcRtTXgBR"
      },
      "outputs": [],
      "source": []
    },
    {
      "cell_type": "markdown",
      "metadata": {
        "id": "nzVdRzCIXgBR"
      },
      "source": [
        "- une interface pour la visualisation en temps réel"
      ]
    },
    {
      "cell_type": "code",
      "execution_count": null,
      "metadata": {
        "scrolled": true,
        "id": "IXq30z3_XgBR"
      },
      "outputs": [],
      "source": [
        "import ipywidgets\n",
        "from IPython.display import display\n",
        "image_w = ipywidgets.Image(format='jpeg',width = 500,height = 300)\n",
        "display(image_w)"
      ]
    },
    {
      "cell_type": "markdown",
      "metadata": {
        "id": "AX1OfC9SXgBR"
      },
      "source": [
        "Lancer la caméra"
      ]
    },
    {
      "cell_type": "code",
      "execution_count": null,
      "metadata": {
        "id": "AuPdi_CWXgBR"
      },
      "outputs": [],
      "source": [
        "camera.observe(execute, names='value')"
      ]
    },
    {
      "cell_type": "markdown",
      "metadata": {
        "id": "VN4z9pk0XgBR"
      },
      "source": [
        "Arréter la caméra"
      ]
    },
    {
      "cell_type": "code",
      "execution_count": null,
      "metadata": {
        "id": "_29dS5gzXgBS"
      },
      "outputs": [],
      "source": [
        "camera.unobserve_all()\n",
        "camera.running = False\n",
        "camera.cap.release()\n",
        "\n",
        "#bilan des mouvements\n",
        "manip.statistiques(cpt)\n",
        "manip.send(cpt)"
      ]
    },
    {
      "cell_type": "code",
      "execution_count": null,
      "metadata": {
        "id": "67HOyLN_XgBS"
      },
      "outputs": [],
      "source": [
        "print(\"\"\"Le nombre total des mouvements effectués est {} ({} JAB , {} CROSS , {} Uppercuts gauches ,{} Uppercuts Droites) \\nPourcentages :\\n JAB : {:.1f}%\\n CROSS : {:.1f}%\\n Uppercuts Gauches : {:.1f}% \\n Uppercuts Droites : {:.1f}%\\n Les Enchainements détéctés :\\n JAB JAB CROSS : {}\\n JAB CROSS Uppercut_gauche : {}\\n JAB CROSS JAB :{}\\nJAB CROSS Uppercut_droite {}\"\"\".format(int(Manipulation.mvt_pourcentage[0]),int(cpt[0,2]),int(cpt[0,3]),int(cpt[0,0]),int(cpt[0,1]),Manipulation.mvt_pourcentage[1],Manipulation.mvt_pourcentage[2],Manipulation.mvt_pourcentage[3],Manipulation.mvt_pourcentage[4],int(Manipulation.comb[0,0]),int(Manipulation.comb[0,1]),int(Manipulation.comb[0,2]),int(Manipulation.comb[0,3])))"
      ]
    },
    {
      "cell_type": "code",
      "execution_count": null,
      "metadata": {
        "id": "3bqMMte1XgBS"
      },
      "outputs": [],
      "source": []
    },
    {
      "cell_type": "code",
      "execution_count": null,
      "metadata": {
        "id": "4RmQzS5UXgBS"
      },
      "outputs": [],
      "source": []
    }
  ],
  "metadata": {
    "kernelspec": {
      "display_name": "Python 3",
      "language": "python",
      "name": "python3"
    },
    "language_info": {
      "codemirror_mode": {
        "name": "ipython",
        "version": 3
      },
      "file_extension": ".py",
      "mimetype": "text/x-python",
      "name": "python",
      "nbconvert_exporter": "python",
      "pygments_lexer": "ipython3",
      "version": "3.6.9"
    },
    "colab": {
      "provenance": []
    }
  },
  "nbformat": 4,
  "nbformat_minor": 0
}